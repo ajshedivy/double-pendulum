{
 "cells": [
  {
   "cell_type": "code",
   "execution_count": 5,
   "id": "8919ec1a",
   "metadata": {},
   "outputs": [],
   "source": [
    "from numpy import sin, cos\n",
    "import numpy as np\n",
    "import matplotlib.pyplot as plt\n",
    "import scipy.integrate as integrate\n",
    "import matplotlib.animation as animation\n",
    "from collections import deque\n"
   ]
  },
  {
   "cell_type": "code",
   "execution_count": 6,
   "id": "e751ae9b-a32e-4164-b9df-d39221769683",
   "metadata": {},
   "outputs": [
    {
     "data": {
      "image/png": "[encoded data removed]",
      "text/plain": [
       "<Figure size 360x288 with 1 Axes>"
      ]
     },
     "metadata": {
      "needs_background": "light"
     },
     "output_type": "display_data"
    }
   ],
   "source": [
    "G = 9.8  # acceleration due to gravity, in m/s^2\n",
    "L1 = 1.0  # length of pendulum 1 in m\n",
    "  # length of pendulum 2 in m\n",
    "L = L1 + L1  # maximal length of the combined pendulum\n",
    "history_len = 500  # how many trajectory points to display\n",
    "\n",
    "fig = plt.figure(figsize=(5, 4))\n",
    "ax = fig.add_subplot(autoscale_on=False, xlim=(-L, L), ylim=(-L, L))\n",
    "ax.set_aspect('equal')\n",
    "ax.grid()\n",
    "\n",
    "line, = ax.plot([], [], 'o-', lw=2)\n",
    "trace, = ax.plot([], [], '.-', lw=1, ms=2)\n",
    "time_template = 'time = %.1fs'\n",
    "time_text = ax.text(0.05, 0.9, '', transform=ax.transAxes)\n",
    "history_x, history_y = deque(maxlen=history_len), deque(maxlen=history_len)\n",
    "\n",
    "dt = 10 / len(x1)\n",
    "\n",
    "def animate(i):\n",
    "    thisx = [0, x1[i], x2[i]]\n",
    "    thisy = [0, y1[i], y2[i]]\n",
    "\n",
    "    if i == 0:\n",
    "        history_x.clear()\n",
    "        history_y.clear()\n",
    "\n",
    "    history_x.appendleft(thisx[2])\n",
    "    history_y.appendleft(thisy[2])\n",
    "\n",
    "    line.set_data(thisx, thisy)\n",
    "    trace.set_data(history_x, history_y)\n",
    "    time_text.set_text(time_template % (i*dt))\n",
    "    return line, trace, time_text\n"
   ]
  },
  {
   "cell_type": "code",
   "execution_count": 7,
   "id": "e993752d",
   "metadata": {},
   "outputs": [],
   "source": [
    "data = []\n",
    "with open('output.txt', 'r') as f:\n",
    "    data = f.readlines()\n",
    "    data = [line.rstrip().split() for line in data]"
   ]
  },
  {
   "cell_type": "code",
   "execution_count": 8,
   "id": "5d169a0f",
   "metadata": {},
   "outputs": [
    {
     "data": {
      "text/html": [
       "<div>\n",
       "<style scoped>\n",
       "    .dataframe tbody tr th:only-of-type {\n",
       "        vertical-align: middle;\n",
       "    }\n",
       "\n",
       "    .dataframe tbody tr th {\n",
       "        vertical-align: top;\n",
       "    }\n",
       "\n",
       "    .dataframe thead th {\n",
       "        text-align: right;\n",
       "    }\n",
       "</style>\n",
       "<table border=\"1\" class=\"dataframe\">\n",
       "  <thead>\n",
       "    <tr style=\"text-align: right;\">\n",
       "      <th></th>\n",
       "      <th>0</th>\n",
       "      <th>1</th>\n",
       "      <th>2</th>\n",
       "      <th>3</th>\n",
       "      <th>4</th>\n",
       "      <th>5</th>\n",
       "      <th>6</th>\n",
       "    </tr>\n",
       "  </thead>\n",
       "  <tbody>\n",
       "    <tr>\n",
       "      <th>0</th>\n",
       "      <td>1.000000</td>\n",
       "      <td>-0.000000</td>\n",
       "      <td>2.000000</td>\n",
       "      <td>-0.000000</td>\n",
       "      <td>0.000000</td>\n",
       "      <td>0.000000</td>\n",
       "      <td>0.000000</td>\n",
       "    </tr>\n",
       "    <tr>\n",
       "      <th>1</th>\n",
       "      <td>0.999509</td>\n",
       "      <td>-0.031348</td>\n",
       "      <td>1.999509</td>\n",
       "      <td>-0.031359</td>\n",
       "      <td>0.080000</td>\n",
       "      <td>-0.783391</td>\n",
       "      <td>-0.001026</td>\n",
       "    </tr>\n",
       "    <tr>\n",
       "      <th>2</th>\n",
       "      <td>0.992199</td>\n",
       "      <td>-0.124663</td>\n",
       "      <td>1.992199</td>\n",
       "      <td>-0.125435</td>\n",
       "      <td>0.160000</td>\n",
       "      <td>-1.551046</td>\n",
       "      <td>-0.029052</td>\n",
       "    </tr>\n",
       "    <tr>\n",
       "      <th>3</th>\n",
       "      <td>0.961785</td>\n",
       "      <td>-0.273807</td>\n",
       "      <td>1.961749</td>\n",
       "      <td>-0.282200</td>\n",
       "      <td>0.240000</td>\n",
       "      <td>-2.235366</td>\n",
       "      <td>-0.200371</td>\n",
       "    </tr>\n",
       "    <tr>\n",
       "      <th>4</th>\n",
       "      <td>0.888140</td>\n",
       "      <td>-0.459573</td>\n",
       "      <td>1.887274</td>\n",
       "      <td>-0.501186</td>\n",
       "      <td>0.320000</td>\n",
       "      <td>-2.730048</td>\n",
       "      <td>-0.695030</td>\n",
       "    </tr>\n",
       "  </tbody>\n",
       "</table>\n",
       "</div>"
      ],
      "text/plain": [
       "          0          1         2          3         4          5          6\n",
       "0  1.000000  -0.000000  2.000000  -0.000000  0.000000   0.000000   0.000000\n",
       "1  0.999509  -0.031348  1.999509  -0.031359  0.080000  -0.783391  -0.001026\n",
       "2  0.992199  -0.124663  1.992199  -0.125435  0.160000  -1.551046  -0.029052\n",
       "3  0.961785  -0.273807  1.961749  -0.282200  0.240000  -2.235366  -0.200371\n",
       "4  0.888140  -0.459573  1.887274  -0.501186  0.320000  -2.730048  -0.695030"
      ]
     },
     "execution_count": 8,
     "metadata": {},
     "output_type": "execute_result"
    }
   ],
   "source": [
    "import pandas as pd\n",
    "\n",
    "df = pd.DataFrame(data)\n",
    "_x1 = 0\n",
    "_y1 = 1\n",
    "_x2 = 2\n",
    "_y2 = 3\n",
    "_t = 4\n",
    "_theta1 = 5\n",
    "_theta2 = 6\n",
    "df.head()"
   ]
  },
  {
   "cell_type": "code",
   "execution_count": 9,
   "id": "45a2dcc1",
   "metadata": {},
   "outputs": [
    {
     "data": {
      "text/plain": [
       "251"
      ]
     },
     "execution_count": 9,
     "metadata": {},
     "output_type": "execute_result"
    }
   ],
   "source": [
    "len(df[_x1])"
   ]
  },
  {
   "cell_type": "code",
   "execution_count": 10,
   "id": "dd28f41a-a107-4483-a48e-2f1629433afb",
   "metadata": {},
   "outputs": [],
   "source": [
    "x1 = df[_x1].to_numpy().astype(float)\n",
    "y1 = df[_y1].to_numpy().astype(float)\n",
    "x2 = df[_x2].to_numpy().astype(float)\n",
    "y2 = df[_y2].to_numpy().astype(float)\n",
    "t = df[_t].to_numpy().astype(float)\n",
    "theta1 = df[_theta1].to_numpy().astype(float)\n",
    "theta2 = df[_theta2].to_numpy().astype(float)\n",
    "history_x, history_y = deque(maxlen=history_len), deque(maxlen=history_len)"
   ]
  },
  {
   "cell_type": "code",
   "execution_count": 93,
   "id": "0ef8bf84",
   "metadata": {},
   "outputs": [
    {
     "name": "stderr",
     "output_type": "stream",
     "text": [
      "MovieWriter ffmpeg unavailable; using Pillow instead.\n"
     ]
    }
   ],
   "source": [
    "ani = animation.FuncAnimation(\n",
    "    fig, animate, len(x1), interval=dt*1000, blit=True)\n",
    "plt.show()\n",
    "\n",
    "ani.save('test-f90.gif')"
   ]
  },
  {
   "cell_type": "code",
   "execution_count": 11,
   "id": "7a224ecf-5df3-4669-bba6-4139e7fa56d3",
   "metadata": {},
   "outputs": [
    {
     "data": {
      "text/plain": [
       "<matplotlib.collections.PathCollection at 0x1e982888bb0>"
      ]
     },
     "execution_count": 11,
     "metadata": {},
     "output_type": "execute_result"
    },
    {
     "data": {
      "image/png": "[encoded data removed]",
      "text/plain": [
       "<Figure size 432x288 with 1 Axes>"
      ]
     },
     "metadata": {
      "needs_background": "light"
     },
     "output_type": "display_data"
    }
   ],
   "source": [
    "plt.scatter(x1, y1)"
   ]
  },
  {
   "cell_type": "code",
   "execution_count": 17,
   "id": "9182b69f-f1ee-4de4-8355-5dd8a59844ea",
   "metadata": {},
   "outputs": [
    {
     "data": {
      "image/png": "[encoded data removed]",
      "text/plain": [
       "<Figure size 432x288 with 1 Axes>"
      ]
     },
     "metadata": {
      "needs_background": "light"
     },
     "output_type": "display_data"
    }
   ],
   "source": [
    "plt.scatter(x2, y2)\n",
    "plt.savefig(\"bob2.png\", bbox_inches='tight')"
   ]
  },
  {
   "cell_type": "code",
   "execution_count": 14,
   "id": "9c75c296-0137-48bb-a6ec-284cd8d4f893",
   "metadata": {},
   "outputs": [
    {
     "data": {
      "text/plain": [
       "<Figure size 432x288 with 0 Axes>"
      ]
     },
     "metadata": {},
     "output_type": "display_data"
    }
   ],
   "source": [
    "plt.savefig(\"test.png\")"
   ]
  },
  {
   "cell_type": "code",
   "execution_count": null,
   "id": "aa5ff966-fde1-405a-a274-ac7f58304897",
   "metadata": {},
   "outputs": [],
   "source": []
  }
 ],
 "metadata": {
  "kernelspec": {
   "display_name": "Python 3 (ipykernel)",
   "language": "python",
   "name": "python3"
  },
  "language_info": {
   "codemirror_mode": {
    "name": "ipython",
    "version": 3
   },
   "file_extension": ".py",
   "mimetype": "text/x-python",
   "name": "python",
   "nbconvert_exporter": "python",
   "pygments_lexer": "ipython3",
   "version": "3.10.4"
  }
 },
 "nbformat": 4,
 "nbformat_minor": 5
}
